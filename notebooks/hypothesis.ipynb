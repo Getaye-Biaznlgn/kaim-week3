{
 "cells": [
  {
   "cell_type": "code",
   "execution_count": 3,
   "metadata": {},
   "outputs": [],
   "source": [
    "import sys\n",
    "sys.path.append(\"../scripts\")\n",
    "from hypothesis_testing import HypothesisTester \n",
    "import pandas as pd"
   ]
  },
  {
   "cell_type": "code",
   "execution_count": 4,
   "metadata": {},
   "outputs": [
    {
     "name": "stderr",
     "output_type": "stream",
     "text": [
      "C:\\Users\\hp\\AppData\\Local\\Temp\\ipykernel_1384\\2528767994.py:1: DtypeWarning: Columns (32) have mixed types. Specify dtype option on import or set low_memory=False.\n",
      "  df = pd.read_csv(\"../data/processed/insurance_data_cleaned.csv\")\n"
     ]
    }
   ],
   "source": [
    "df = pd.read_csv(\"../data/processed/insurance_data_cleaned.csv\")\n"
   ]
  },
  {
   "cell_type": "code",
   "execution_count": 5,
   "metadata": {},
   "outputs": [],
   "source": [
    "tester = HypothesisTester(df)"
   ]
  },
  {
   "cell_type": "code",
   "execution_count": 6,
   "metadata": {},
   "outputs": [
    {
     "name": "stdout",
     "output_type": "stream",
     "text": [
      "Claim Frequency by Gender:\n",
      "{'Test': 'Chi-square', 'Group': 'Gender', 'Chi²': np.float64(6.965235889782573), 'P-value': np.float64(0.030726864407739952), 'Degrees of Freedom': 2, 'Significant': np.True_, 'Contingency Table': ClaimOccurred       0     1\n",
      "Gender                     \n",
      "Female           6741    14\n",
      "Male            42273    93\n",
      "Not specified  937783  2653}\n"
     ]
    }
   ],
   "source": [
    "gender_freq_result = tester.chi_square_test(group_col='Gender')\n",
    "print(\"Claim Frequency by Gender:\")\n",
    "print(gender_freq_result)"
   ]
  },
  {
   "cell_type": "code",
   "execution_count": null,
   "metadata": {},
   "outputs": [
    {
     "name": "stdout",
     "output_type": "stream",
     "text": [
      "\n",
      "🎯 Claim Severity by Gender:\n",
      "{'Test': 'T-test', 'Metric': 'TotalClaims', 'Group 1': 'Male', 'Group 2': 'Female', 'Group 1 Mean': np.float64(14999.749705715909), 'Group 2 Mean': np.float64(17874.721303258153), 'T-statistic': np.float64(-0.5505261776718063), 'P-value': np.float64(0.5870548424141508), 'Significant': np.False_}\n"
     ]
    }
   ],
   "source": [
    "severity_df = df[df['TotalClaims'] > 0]\n",
    "severity_tester = HypothesisTester(severity_df)\n",
    "gender_severity_result = severity_tester.t_test(\n",
    "    group_col='Gender',\n",
    "    metric_col='TotalClaims',\n",
    "    group1_val='Male',\n",
    "    group2_val='Female'\n",
    ")\n",
    "print(\"\\nClaim Severity by Gender:\")\n",
    "print(gender_severity_result)"
   ]
  },
  {
   "cell_type": "code",
   "execution_count": 8,
   "metadata": {},
   "outputs": [
    {
     "name": "stdout",
     "output_type": "stream",
     "text": [
      "\n",
      "Profit Margin by Zip Code:\n",
      "{'Test': 'T-test', 'Metric': 'ProfitMargin', 'Group 1': 2000, 'Group 2': 122, 'Group 1 Mean': np.float64(-8.162335926182381), 'Group 2 Mean': np.float64(-22.859806159734156), 'T-statistic': np.float64(1.1595445746842876), 'P-value': np.float64(0.24623805807451107), 'Significant': np.False_}\n"
     ]
    }
   ],
   "source": [
    "top_zipcodes = df['PostalCode'].value_counts().index[:2].tolist()\n",
    "margin_result = tester.t_test(\n",
    "    group_col='PostalCode',\n",
    "    metric_col='ProfitMargin',\n",
    "    group1_val=top_zipcodes[0],\n",
    "    group2_val=top_zipcodes[1]\n",
    ")\n",
    "print(\"\\nProfit Margin by Zip Code:\")\n",
    "print(margin_result)"
   ]
  },
  {
   "cell_type": "code",
   "execution_count": null,
   "metadata": {},
   "outputs": [],
   "source": []
  }
 ],
 "metadata": {
  "kernelspec": {
   "display_name": ".venv",
   "language": "python",
   "name": "python3"
  },
  "language_info": {
   "codemirror_mode": {
    "name": "ipython",
    "version": 3
   },
   "file_extension": ".py",
   "mimetype": "text/x-python",
   "name": "python",
   "nbconvert_exporter": "python",
   "pygments_lexer": "ipython3",
   "version": "3.13.5"
  }
 },
 "nbformat": 4,
 "nbformat_minor": 2
}
